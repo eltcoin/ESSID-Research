{
 "cells": [
  {
   "cell_type": "code",
   "execution_count": 1,
   "id": "a7bbbae6",
   "metadata": {
    "scrolled": true
   },
   "outputs": [],
   "source": [
    "import igraph as ig\n",
    "import networkx as nx"
   ]
  },
  {
   "cell_type": "code",
   "execution_count": 2,
   "id": "4b947f25",
   "metadata": {},
   "outputs": [],
   "source": [
    "from ipysigma import Sigma"
   ]
  },
  {
   "cell_type": "markdown",
   "id": "98067c5c",
   "metadata": {},
   "source": [
    "# Airdrop Simulator\n",
    "\n",
    "## ELT2 Airdrop simulations using networkx and sigmajs\n",
    "\n",
    "--\n",
    "\n",
    "### Steps\n",
    "\n",
    "    - Get ELTCOIN 1.0 AIRDROP info from Etherscan \n",
    "    - Model Airdrop using seed info (\n",
    "    "
   ]
  },
  {
   "cell_type": "code",
   "execution_count": 3,
   "id": "b9f83ed8",
   "metadata": {
    "scrolled": true
   },
   "outputs": [],
   "source": [
    "g = ig.Graph.Famous('Zachary')\n",
    "import generator \n",
    "# print(dir(generator))\n",
    "# g = generator.generate_airdrop_data('erdos_renyi', 100, 0.05)\n",
    "# g = generator.generate_airdrop_data('erdos_renyi', 50, 0.03)\n",
    "# g = nx.gaussian_random_partition_graph(100, 2, 10, 0.125, 0.1)\n",
    "# g = nx.connected_watts_strogatz_graph(750, 1, 2)\n",
    "# betweenness = nx.betweenness_centrality(g)\n",
    "# dir(g)\n",
    "# nx.set_node_attributes(g, betweenness, \"betweenness_centrality\")\n",
    "# dir (g.graph)"
   ]
  },
  {
   "cell_type": "code",
   "execution_count": 4,
   "id": "038a9f88",
   "metadata": {},
   "outputs": [
    {
     "data": {
      "application/vnd.jupyter.widget-view+json": {
       "model_id": "b9325afab67a4fb082c4a382023adc11",
       "version_major": 2,
       "version_minor": 0
      },
      "text/plain": [
       "Sigma(ig.Graph with 34 nodes and 78 edges)"
      ]
     },
     "execution_count": 4,
     "metadata": {},
     "output_type": "execute_result"
    }
   ],
   "source": [
    "### dir(g)\n",
    "Sigma(g, node_size=\"betweenness_centrality\", node_metrics={\"community\": \"louvain\"}, node_color=\"community\", node_color_gradient='Viridis')"
   ]
  },
  {
   "cell_type": "code",
   "execution_count": null,
   "id": "1071b01d",
   "metadata": {},
   "outputs": [],
   "source": []
  }
 ],
 "metadata": {
  "kernelspec": {
   "display_name": "Python 3 (ipykernel)",
   "language": "python",
   "name": "python3"
  },
  "language_info": {
   "codemirror_mode": {
    "name": "ipython",
    "version": 3
   },
   "file_extension": ".py",
   "mimetype": "text/x-python",
   "name": "python",
   "nbconvert_exporter": "python",
   "pygments_lexer": "ipython3",
   "version": "3.9.7"
  }
 },
 "nbformat": 4,
 "nbformat_minor": 5
}
