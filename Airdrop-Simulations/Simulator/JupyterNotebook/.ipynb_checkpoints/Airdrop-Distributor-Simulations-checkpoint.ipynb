{
 "cells": [
  {
   "cell_type": "markdown",
   "id": "d1b7f255",
   "metadata": {},
   "source": [
    "# Airdrop Simulator using NetworkX\n",
    "\n",
    "### The implementation we're working towards is a monte-carlo style simulation to model our particular Airdrop"
   ]
  },
  {
   "cell_type": "code",
   "execution_count": 70,
   "id": "e735d1af",
   "metadata": {},
   "outputs": [],
   "source": [
    "import networkx as nx\n",
    "import random\n",
    "\n",
    "class ELT2AirdropSimulation:    \n",
    "\n",
    "    distributorProbibility = 0.5\n",
    "    \n",
    "    @staticmethod\n",
    "    def create_initial_nodes(num_inital_nodes, of_which_are_distributors):\n",
    "        \"\"\"\n",
    "        Creates the initial set of nodes in the graph.\n",
    "        \"\"\"\n",
    "        G = nx.DiGraph()\n",
    "\n",
    "        for i in range(num_inital_nodes):\n",
    "            G.add_node(i, reputation=random.uniform(0, 1), stake=random.uniform(0, 1), opt_in=random.choice([True, False]), stage=0, distributor=random.choice([True, False]))\n",
    "            if i == 0:\n",
    "                this_node = G.nodes[i]\n",
    "                this_node['stake'] = 1\n",
    "                this_node['opt_in'] = True\n",
    "                this_node['reputation'] = 1\n",
    "                this_node['distributor'] = True\n",
    "                this_node['AIRDROP CONTRACT'] = True\n",
    "            else:\n",
    "                G.add_edge(0, i, edge_type='airdrop')\n",
    "        return G\n",
    "\n",
    "\n",
    "    @staticmethod\n",
    "    def iterate_data_set(G, num_steps, randomnessFactor):\n",
    "        \"\"\"\n",
    "        Iterates through the dataset for a specified number of steps.\n",
    "        \"\"\"\n",
    "        for i in range(num_steps):\n",
    "            node_iter = 0\n",
    "            for node in list(G.nodes()):\n",
    "                if node_iter == 0:\n",
    "                    node_iter = node_iter +1;\n",
    "                    None\n",
    "                else:\n",
    "                    ELT2AirdropSimulation.updateNode(G, node, randomnessFactor)\n",
    "                    ELT2AirdropSimulation.updateDistNode(G, node, randomnessFactor)\n",
    "                    node_iter = node_iter +1;\n",
    "        return G\n",
    "    \n",
    "\n",
    "    @staticmethod\n",
    "    def updateNode(G, node, randomnessFactor):\n",
    "        ELT2AirdropSimulation.increment_node_reputation(G, node, randomnessFactor)\n",
    "        ELT2AirdropSimulation.increment_node_stake(G, node, randomnessFactor)\n",
    "        ELT2AirdropSimulation.increment_node_opt_in(G, node, randomnessFactor)\n",
    "        ELT2AirdropSimulation.increment_node_stage(G, node)\n",
    "        ELT2AirdropSimulation.set_distributor_node_status(G, node)\n",
    "    @staticmethod\n",
    "    def updateDistNode(G, node, randomnessFactor):\n",
    "         ELT2AirdropSimulation.increment_distributor_node_edges(G, node, randomnessFactor)\n",
    "    @staticmethod\n",
    "    def set_distributor_node_status(G, node):\n",
    "        \"\"\"\n",
    "        Iterates through each node in the graph and checks if the node meets the eligibility criteria to be a distributor.\n",
    "        \"\"\"\n",
    "        if ELT2AirdropSimulation.check_distributor_probability(G, node):\n",
    "            if ELT2AirdropSimulation.check_distributor_eligibility(G, node):\n",
    "                # Adding a promoteDistributor edge to the graph representing contract event where a node is promoted to a distributor\n",
    "                G.add_edge(0, node, edge_type='promoteDistributor')\n",
    "                # Set the Distributor attribute on the node to True\n",
    "                G.nodes()[node]['distributor'] = True\n",
    "            else:\n",
    "                G.nodes()[node]['distributor'] = False\n",
    "    @staticmethod\n",
    "    def check_distributor_eligibility(G, node):\n",
    "        \"\"\"\n",
    "        Checks if a node meets the eligibility criteria to be a distributor.\n",
    "        \"\"\"\n",
    "        return G.nodes[node]['reputation'] > 0.8 and G.nodes[node]['stake'] > 0.8 and G.nodes[node]['opt_in'] == True and G.has_edge(0, node)\n",
    "    \n",
    "    @staticmethod\n",
    "    def check_distributor_probability(G, node):\n",
    "        \"\"\"\n",
    "        Checks if a node meets the probability criteria to be a distributor.\n",
    "        \"\"\"\n",
    "        return random.uniform(0, 1) < ELT2AirdropSimulation.distributorProbibility\n",
    "    \n",
    "    @staticmethod\n",
    "    def add_airdrop_edge(G, node):\n",
    "        \"\"\"\n",
    "        Adds a new node to the graph, connecting it to the input node via an \"airdrop\" edge.\n",
    "        \"\"\"\n",
    "        new_node = len(G.nodes())\n",
    "        G.add_node(new_node, reputation=random.uniform(0, 1), stake=random.uniform(0, 1), opt_in=random.choice([True, False]), stage=0)\n",
    "\n",
    "        ELT2AirdropSimulation.set_distributor_node_status(G, new_node)\n",
    "        \n",
    "        try:\n",
    "            if G.nodes()[new_node]['distributor'] == True : \n",
    "                isDist = True\n",
    "            else:\n",
    "                isDist = False\n",
    "        except:\n",
    "            G.nodes()[new_node]['distributor'] = False\n",
    "        \n",
    "        ELT2AirdropSimulation.updateNode(G, new_node, randomnessFactor)\n",
    "        if G.has_edge(0, new_node) and isDist == False :\n",
    "            G.add_edge(0, new_node, edge_type='airdrop')            \n",
    "        else :\n",
    "#             G.add_edge(node, new_node, edge_type='distributor_airdrop')\n",
    "              None\n",
    "    @staticmethod\n",
    "    def increment_distributor_node_edges(G, _node,  _randomness):\n",
    "        \"\"\"\n",
    "        Increments all distributor nodes, spawning edges to new nodes from the\n",
    "        particular distributor according to the random value multiplied by the\n",
    "        randomness attribute.\n",
    "        \"\"\"\n",
    "        for node in G.nodes():\n",
    "            if G.nodes[node].get('distributor') and random.uniform(0, 1) < randomness:\n",
    "                new_node = len(G.nodes())\n",
    "                G.add_node(new_node, reputation=random.uniform(0, 1), stake=random.uniform(0, 1), opt_in=random.choice([True, False]), stage=0)\n",
    "                G.add_edge(node, new_node, edge_type='airdrop')\n",
    "                \n",
    "    @staticmethod\n",
    "    def increment_node_reputation(G, node, randomness):\n",
    "        \"\"\"\n",
    "        Increments a node's reputation attribute based on a random value multiplied by the randomness attribute.\n",
    "        \"\"\"\n",
    "        G.nodes[node]['reputation'] += (random.uniform(0, 1) * randomness) * (1 + G.nodes[node].get('distributor', False))\n",
    "\n",
    "    @staticmethod\n",
    "    def increment_node_stake(G, node, randomness):\n",
    "        \"\"\"\n",
    "        Increments a node's stake attribute based on a random value multiplied by the randomness attribute.\n",
    "        \"\"\"\n",
    "        G.nodes[node]['stake'] += (random.uniform(0, 1) * randomness) * (1 + G.nodes[node].get('distributor', False))\n",
    "\n",
    "    @staticmethod\n",
    "    def increment_node_opt_in(G, node, randomness):\n",
    "        \"\"\"\n",
    "        Increments a node's opt_in attribute based on a random value multiplied by the randomness attribute.\n",
    "        \"\"\"\n",
    "        if G.nodes[node]['opt_in'] == False:\n",
    "            G.nodes[node]['opt_in'] = bool(random.uniform(0, 1) + randomness > 0.5)\n",
    "        else:\n",
    "            None\n",
    "\n",
    "\n",
    "    @staticmethod\n",
    "    def increment_node_stage(G, node):\n",
    "        \"\"\"\n",
    "        Increments a node's stage attribute by 1\n",
    "        \"\"\"\n",
    "        G.nodes[node]['stage'] += 1"
   ]
  },
  {
   "cell_type": "code",
   "execution_count": 76,
   "id": "eaa355d6",
   "metadata": {
    "scrolled": false
   },
   "outputs": [],
   "source": [
    "# Required setup and runner methods...\n",
    "\n",
    "from ipysigma import Sigma\n",
    "\n",
    "\n",
    "#Phi = Golden ratio (Maybe a dumb idea)\n",
    "phi = 1.6180339887498948482045868343656381177203091798057628621354486227\n",
    "randomnessFactor = phi\n",
    "\n",
    "\n",
    "def printDatasetKeyMetrics(G):\n",
    "    \"\"\"\n",
    "    Prints out key metrics from the graph object\n",
    "    \"\"\"\n",
    "    print(\"Number of Nodes: \", G.number_of_nodes())\n",
    "    print(\"Number of Edges: \", G.number_of_edges())\n",
    "    print(\"Number of Distributors: \", len([n for n in G.nodes() if G.nodes[n].get(\"distributor\")]))\n",
    "    print(\"Average node in-degree: \", sum(d for n, d in G.in_degree()) / len(G))\n",
    "    print(\"Average node out-degree: \", sum(d for n, d in G.out_degree()) / len(G))\n",
    "    \n",
    "def doDatasetIteration(_G, _iter):\n",
    "    G = incrementGraph(_G, _iter, randomnessFactor)\n",
    "    printDatasetKeyMetrics(_G)\n",
    "    \n",
    "def incrementGraph(_G, iterations, randomnessFactor):\n",
    "    return ELT2AirdropSimulation.iterate_data_set(_G, iterations, randomnessFactor)\n",
    "    print(\"\\nIterations:\", iterations, \"\\nRandomness Factor:\", randomnessFactor, \"\\n\")\n",
    "\n",
    "def renderSigmaGraph(_G):\n",
    "    return Sigma(\n",
    "        _G,\n",
    "        node_size_range=(2,8),\n",
    "        node_size=\"stake\",\n",
    "        node_color=\"reputation\",\n",
    "        node_color_gradient='Viridis',\n",
    "        node_label=\"distributor\",\n",
    "        default_edge_type=\"curve\",\n",
    "        node_border_color_from=\"node\",\n",
    "        edge_label=\"edge_type\"\n",
    "    )"
   ]
  },
  {
   "cell_type": "markdown",
   "id": "cdb2082e",
   "metadata": {},
   "source": [
    "## Setup our simulation\n",
    "### This includes the number of inital nodes, and the number of iterations to do this cycle\n",
    "---"
   ]
  },
  {
   "cell_type": "code",
   "execution_count": 77,
   "id": "4b7779e4",
   "metadata": {
    "scrolled": true
   },
   "outputs": [
    {
     "name": "stdout",
     "output_type": "stream",
     "text": [
      "Number of Nodes:  100\n",
      "Number of Edges:  99\n",
      "Number of Distributors:  46\n",
      "Average node in-degree:  0.99\n",
      "Average node out-degree:  0.99\n"
     ]
    }
   ],
   "source": [
    "#Define a graph from the inital nodes set here\n",
    "\n",
    "\n",
    "\n",
    "num_nodes = 100\n",
    "iterations = 0\n",
    "\n",
    "G = ELT2AirdropSimulation.create_initial_nodes(num_nodes, 0.6)\n",
    "printDatasetKeyMetrics(G)"
   ]
  },
  {
   "cell_type": "markdown",
   "id": "aec6b805",
   "metadata": {},
   "source": [
    "### The graph at initial nodes, with 0 iterations of the dataset model."
   ]
  },
  {
   "cell_type": "code",
   "execution_count": 78,
   "id": "6e993838",
   "metadata": {
    "scrolled": true
   },
   "outputs": [
    {
     "data": {
      "application/vnd.jupyter.widget-view+json": {
       "model_id": "4ae4f1b9e5c44202b47532c5de26051e",
       "version_major": 2,
       "version_minor": 0
      },
      "text/plain": [
       "Sigma(nx.DiGraph with 100 nodes and 99 edges)"
      ]
     },
     "execution_count": 78,
     "metadata": {},
     "output_type": "execute_result"
    }
   ],
   "source": [
    "renderSigmaGraph(G)"
   ]
  },
  {
   "cell_type": "markdown",
   "id": "6a4a4ac9",
   "metadata": {},
   "source": [
    "## After 3 Iteration:"
   ]
  },
  {
   "cell_type": "code",
   "execution_count": 79,
   "id": "d665a87a",
   "metadata": {
    "scrolled": true
   },
   "outputs": [
    {
     "name": "stdout",
     "output_type": "stream",
     "text": [
      "Number of Nodes:  100\n",
      "Number of Edges:  99\n",
      "Number of Distributors:  95\n",
      "Average node in-degree:  0.99\n",
      "Average node out-degree:  0.99\n"
     ]
    }
   ],
   "source": [
    "iterations = 3\n",
    "doDatasetIteration(G, iterations)"
   ]
  },
  {
   "cell_type": "code",
   "execution_count": 80,
   "id": "be17983e",
   "metadata": {
    "scrolled": true
   },
   "outputs": [
    {
     "data": {
      "application/vnd.jupyter.widget-view+json": {
       "model_id": "aaf2e74fc6ad483682eb44906ad8e5de",
       "version_major": 2,
       "version_minor": 0
      },
      "text/plain": [
       "Sigma(nx.DiGraph with 100 nodes and 99 edges)"
      ]
     },
     "execution_count": 80,
     "metadata": {},
     "output_type": "execute_result"
    }
   ],
   "source": [
    "renderSigmaGraph(G)"
   ]
  },
  {
   "cell_type": "markdown",
   "id": "6d297d5b",
   "metadata": {},
   "source": [
    "## After 6 Iterations:"
   ]
  },
  {
   "cell_type": "code",
   "execution_count": 75,
   "id": "6dabb9d2",
   "metadata": {
    "scrolled": true
   },
   "outputs": [
    {
     "name": "stdout",
     "output_type": "stream",
     "text": [
      "Number of Nodes:  100\n",
      "Number of Edges:  99\n",
      "Number of Distributors:  100\n",
      "Average node in-degree:  0.99\n",
      "Average node out-degree:  0.99\n"
     ]
    }
   ],
   "source": [
    "iterations = 6\n",
    "doDatasetIteration(G, iterations)"
   ]
  },
  {
   "cell_type": "code",
   "execution_count": 67,
   "id": "eadb2abc",
   "metadata": {
    "scrolled": true
   },
   "outputs": [
    {
     "data": {
      "application/vnd.jupyter.widget-view+json": {
       "model_id": "fc3f25f683584398b2e42b11395f40fe",
       "version_major": 2,
       "version_minor": 0
      },
      "text/plain": [
       "Sigma(nx.DiGraph with 100 nodes and 99 edges)"
      ]
     },
     "execution_count": 67,
     "metadata": {},
     "output_type": "execute_result"
    }
   ],
   "source": [
    "renderSigmaGraph(G)"
   ]
  },
  {
   "cell_type": "markdown",
   "id": "7f8d8be7",
   "metadata": {},
   "source": [
    "## After 3 Iterations"
   ]
  },
  {
   "cell_type": "code",
   "execution_count": 68,
   "id": "6a0123fd",
   "metadata": {
    "scrolled": false
   },
   "outputs": [
    {
     "name": "stdout",
     "output_type": "stream",
     "text": [
      "Number of Nodes:  100\n",
      "Number of Edges:  99\n",
      "Number of Distributors:  99\n",
      "Average node in-degree:  0.99\n",
      "Average node out-degree:  0.99\n"
     ]
    }
   ],
   "source": [
    "iterations = 3\n",
    "doDatasetIteration(G, iterations)"
   ]
  },
  {
   "cell_type": "code",
   "execution_count": 69,
   "id": "57273b48",
   "metadata": {},
   "outputs": [
    {
     "data": {
      "application/vnd.jupyter.widget-view+json": {
       "model_id": "7c4c14465619493bb9ac7b2445412909",
       "version_major": 2,
       "version_minor": 0
      },
      "text/plain": [
       "Sigma(nx.DiGraph with 100 nodes and 99 edges)"
      ]
     },
     "execution_count": 69,
     "metadata": {},
     "output_type": "execute_result"
    }
   ],
   "source": [
    "renderSigmaGraph(G)"
   ]
  },
  {
   "cell_type": "markdown",
   "id": "d48d8cc3",
   "metadata": {},
   "source": [
    "## After 15 Iterations"
   ]
  },
  {
   "cell_type": "code",
   "execution_count": 50,
   "id": "fb683b58",
   "metadata": {},
   "outputs": [
    {
     "name": "stdout",
     "output_type": "stream",
     "text": [
      "Number of Nodes:  10\n",
      "Number of Edges:  9\n",
      "Number of Distributors:  10\n",
      "Average node in-degree:  0.9\n",
      "Average node out-degree:  0.9\n"
     ]
    }
   ],
   "source": [
    "iterations = 15\n",
    "doDatasetIteration(G, iterations)"
   ]
  },
  {
   "cell_type": "code",
   "execution_count": 51,
   "id": "1feccb43",
   "metadata": {
    "scrolled": true
   },
   "outputs": [
    {
     "data": {
      "application/vnd.jupyter.widget-view+json": {
       "model_id": "83caf7bebc5748209e5a84c973e13367",
       "version_major": 2,
       "version_minor": 0
      },
      "text/plain": [
       "Sigma(nx.DiGraph with 10 nodes and 9 edges)"
      ]
     },
     "execution_count": 51,
     "metadata": {},
     "output_type": "execute_result"
    }
   ],
   "source": [
    "renderSigmaGraph(G)"
   ]
  },
  {
   "cell_type": "markdown",
   "id": "3c514519",
   "metadata": {},
   "source": [
    "## After 20 Iterations"
   ]
  },
  {
   "cell_type": "code",
   "execution_count": 42,
   "id": "fb171702",
   "metadata": {
    "scrolled": false
   },
   "outputs": [
    {
     "name": "stdout",
     "output_type": "stream",
     "text": [
      "Number of Nodes:  5\n",
      "Number of Edges:  4\n",
      "Number of Distributors:  5\n",
      "Average node in-degree:  0.8\n",
      "Average node out-degree:  0.8\n"
     ]
    }
   ],
   "source": [
    "iterations = 20\n",
    "doDatasetIteration(G, iterations)"
   ]
  },
  {
   "cell_type": "code",
   "execution_count": 43,
   "id": "95d3a0d2",
   "metadata": {},
   "outputs": [
    {
     "data": {
      "application/vnd.jupyter.widget-view+json": {
       "model_id": "427ae65330e046de91355131ffc8fb11",
       "version_major": 2,
       "version_minor": 0
      },
      "text/plain": [
       "Sigma(nx.DiGraph with 5 nodes and 4 edges)"
      ]
     },
     "execution_count": 43,
     "metadata": {},
     "output_type": "execute_result"
    }
   ],
   "source": [
    "renderSigmaGraph(G)"
   ]
  },
  {
   "cell_type": "code",
   "execution_count": null,
   "id": "dd8ed983",
   "metadata": {},
   "outputs": [],
   "source": []
  }
 ],
 "metadata": {
  "kernelspec": {
   "display_name": "Python 3 (ipykernel)",
   "language": "python",
   "name": "python3"
  },
  "language_info": {
   "codemirror_mode": {
    "name": "ipython",
    "version": 3
   },
   "file_extension": ".py",
   "mimetype": "text/x-python",
   "name": "python",
   "nbconvert_exporter": "python",
   "pygments_lexer": "ipython3",
   "version": "3.9.7"
  }
 },
 "nbformat": 4,
 "nbformat_minor": 5
}
