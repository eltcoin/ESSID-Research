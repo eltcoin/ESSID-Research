{
 "cells": [
  {
   "cell_type": "code",
   "execution_count": 52,
   "id": "8005843d",
   "metadata": {
    "scrolled": true
   },
   "outputs": [],
   "source": [
    "### Airdrop Simulation \n",
    "\n",
    "from networkx import DiGraph\n",
    "import random\n",
    "\n",
    "class AirdropSimulation:\n",
    "    def __init__(self, num_nodes=100, stages=5, randomness=0.2, distributor_prob=0.1, stake_required=0.5):\n",
    "        self.num_nodes = num_nodes\n",
    "        self.stages = stages\n",
    "        self.randomness = randomness\n",
    "        self.distributor_prob = distributor_prob\n",
    "        self.stake_required = stake_required\n",
    "        self.G = DiGraph()\n",
    "        self.current_stage = 0\n",
    "\n",
    "    def generate_data_set(self):\n",
    "        for i in range(self.num_nodes):\n",
    "            self.G.add_node(i, reputation=0, distributor=False, stake=0, opt_in=True, stage=0)\n",
    "        for i in range(self.num_nodes):\n",
    "            for j in range(int(random.random() * self.num_nodes)):\n",
    "                self.G.add_edge(i, j)\n",
    "                self.G.nodes[j]['reputation'] += random.random()\n",
    "                self.G.nodes[j]['stake'] += random.random()\n",
    "                self.G.nodes[j]['opt_in'] = True if random.random() > 0.5 else False\n",
    "                self.G.nodes[j]['stage'] = self.current_stage\n",
    "                if self.G.nodes[j]['opt_in'] == True and self.G.nodes[j]['stake'] >= self.stake_required:\n",
    "                    self.G.nodes[j]['distributor'] = True\n",
    "                    print (\"Because \" + str(self.G.nodes[j]['opt_in']) + \" and \" + str(self.G.nodes[j]['stake']))\n",
    " \n",
    "\n",
    "    def iterate_data_set(self, steps):\n",
    "        for step in range(steps):\n",
    "            print (\"Iteration step: \" + step)\n",
    "            self.current_stage += 1\n",
    "            for node in list(self.G.nodes()):\n",
    "                if self.G.nodes[node]['reputation'] > self.randomness and self.G.nodes[node]['stake'] >= self.stake_required:\n",
    "                    if random.random() < self.distributor_prob and self.G.nodes[node]['opt_in'] == True:\n",
    "                        print (node)\n",
    "                        for i in range(int(random.random() * self.num_nodes)):\n",
    "                            new_node = len(self.G)\n",
    "                            self.G.nodes[new_node]['reputation'] += random.random()\n",
    "                            self.G.nodes[new_node]['stake'] += random.random()\n",
    "                            self.G.nodes[new_node]['opt_in'] = True if random.random() > 0.5 else False\n",
    "                            self.G.nodes[new_node]['distributor'] = True \n",
    "                            self.G.add_node(new_node, reputation=0, distributor=False, stake=0, opt_in=False, stage=self.current_stage)\n",
    "                            self.G.add_edge(node, new_node)\n",
    "                self.G.nodes[node]['reputation'] += random.random() * self.randomness\n",
    "\n",
    "\n",
    "    def analyze_data_set(self):\n",
    "        num_distributors = 0\n",
    "        for node in self.G.nodes():\n",
    "            if self.G.nodes[node]['distributor'] == True:\n",
    "                num_distributors += 1\n",
    "        print(\"Number of distributors:\", num_distributors)\n"
   ]
  },
  {
   "cell_type": "code",
   "execution_count": 53,
   "id": "0c49c088",
   "metadata": {
    "scrolled": true
   },
   "outputs": [
    {
     "name": "stdout",
     "output_type": "stream",
     "text": [
      "Because True and 5.299757802612747\n",
      "Because True and 6.3268840244817905\n",
      "Because True and 5.215853722060786\n",
      "Because True and 7.312179810676497\n",
      "Because True and 5.23815846762898\n",
      "Because True and 5.733100968372917\n",
      "Because True and 5.285640313090283\n",
      "Because True and 5.736231084945723\n",
      "Because True and 7.415555179793564\n",
      "Because True and 6.233551609097761\n",
      "Because True and 6.226515116755616\n",
      "Because True and 5.646573710028151\n",
      "Because True and 5.704194303280698\n",
      "Because True and 6.914670103003824\n",
      "Because True and 6.172084731213096\n",
      "Because True and 6.78185473331527\n",
      "Because True and 6.695392984596707\n",
      "Because True and 9.310138264156233\n",
      "Because True and 8.512456571515862\n",
      "Because True and 7.124299158090387\n",
      "Because True and 7.397688760628402\n",
      "Because True and 9.69238920823044\n",
      "Because True and 8.759808587550538\n",
      "Because True and 7.649201555828633\n",
      "Because True and 8.24085344593903\n",
      "Because True and 6.634609015177414\n",
      "Because True and 8.529062109948217\n",
      "Because True and 8.457295688289935\n",
      "Because True and 8.466068285597842\n",
      "Because True and 7.185217274240778\n",
      "Because True and 11.830584302599132\n",
      "Because True and 9.710733871586886\n",
      "Because True and 9.141479899783942\n",
      "Because True and 8.17084455098082\n",
      "Because True and 6.193187980214648\n",
      "Because True and 10.291641949899052\n",
      "Because True and 9.615831326856677\n",
      "Because True and 8.877546692631908\n",
      "Because True and 10.254981982313836\n",
      "Because True and 7.272437455502568\n",
      "Because True and 6.2760922078038455\n",
      "Because True and 5.220175444544744\n",
      "Number of distributors: 10\n"
     ]
    },
    {
     "data": {
      "application/vnd.jupyter.widget-view+json": {
       "model_id": "4649dcd0db1d44468ce631558e449391",
       "version_major": 2,
       "version_minor": 0
      },
      "text/plain": [
       "Sigma(nx.DiGraph with 25 nodes and 233 edges)"
      ]
     },
     "execution_count": 53,
     "metadata": {},
     "output_type": "execute_result"
    }
   ],
   "source": [
    "from ipysigma import Sigma\n",
    "sim = AirdropSimulation(num_nodes=25, stages=3, randomness=0.001, distributor_prob=1.0, stake_required=5.2)\n",
    "sim.generate_data_set()\n",
    "sim.analyze_data_set()\n",
    "Sigma(sim.G, node_size=\"stake\" ,node_metrics={\"community\": \"louvain\"}, node_color=\"reputation\", node_color_gradient='Viridis')\n",
    "# dir(sim.G)"
   ]
  },
  {
   "cell_type": "code",
   "execution_count": null,
   "id": "d24a9d3d",
   "metadata": {},
   "outputs": [],
   "source": [
    "# Create an AirdropSimulation instance\n",
    "\n",
    "sim = AirdropSimulation(num_nodes=100, stages=3, randomness=0.5, distributor_prob=0.3, stake_required=0.0)\n",
    "\n",
    "# Generate a data set for the first airdrop strategy\n",
    "sim.generate_data_set()\n",
    "\n",
    "# Analyze the data set at stage 1\n",
    "print(\"Airdrop strategy 1 at stage 1:\")\n",
    "sim.analyze_data_set()\n",
    "\n",
    "# Iterate the data set to simulate network growth\n",
    "sim.iterate_data_set(steps=5)\n",
    "\n",
    "# Analyze the data set after network growth\n",
    "print(\"Airdrop strategy 1 at stage 2:\")\n",
    "sim.analyze_data_set()\n",
    "\n",
    "# Iterate the data set to simulate network growth\n",
    "sim.iterate_data_set(steps=5)\n",
    "\n",
    "# Analyze the data set after network growth\n",
    "print(\"Airdrop strategy 1 at stage 3:\")\n",
    "sim.analyze_data_set()"
   ]
  },
  {
   "cell_type": "code",
   "execution_count": null,
   "id": "3b4240d7",
   "metadata": {},
   "outputs": [],
   "source": [
    "# Create a new AirdropSimulation instance with different parameters\n",
    "sim2 = AirdropSimulation(num_nodes=100, stages=5, randomness=0.1, distributor_prob=0.2, stake_required=0.7)\n",
    "\n",
    "# Generate a data set for the second airdrop strategy\n",
    "sim2.generate_data_set()\n",
    "\n",
    "# Analyze the data set at stage 1\n",
    "print(\"Airdrop strategy 2 at stage 1:\")\n",
    "sim2.analyze_data_set()\n",
    "\n",
    "# Iterate the data set to simulate network growth\n",
    "sim2.iterate_data_set(steps=5)\n",
    "\n",
    "# Analyze the data set after network growth\n",
    "print(\"Airdrop strategy 2 at stage 2:\")\n",
    "sim2.analyze_data_set()\n",
    "\n",
    "# Iterate the data set to simulate network growth\n",
    "sim2.iterate_data_set(steps=5)\n",
    "\n",
    "# Analyze the data set after network growth\n",
    "print(\"Airdrop strategy 2 at stage 3:\")\n",
    "sim2.analyze_data_set()"
   ]
  }
 ],
 "metadata": {
  "kernelspec": {
   "display_name": "Python 3 (ipykernel)",
   "language": "python",
   "name": "python3"
  },
  "language_info": {
   "codemirror_mode": {
    "name": "ipython",
    "version": 3
   },
   "file_extension": ".py",
   "mimetype": "text/x-python",
   "name": "python",
   "nbconvert_exporter": "python",
   "pygments_lexer": "ipython3",
   "version": "3.9.7"
  }
 },
 "nbformat": 4,
 "nbformat_minor": 5
}
